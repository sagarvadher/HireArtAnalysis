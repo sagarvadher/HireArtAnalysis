{
 "cells": [
  {
   "cell_type": "code",
   "execution_count": 1,
   "metadata": {
    "collapsed": true
   },
   "outputs": [],
   "source": [
    "import pandas as pd"
   ]
  },
  {
   "cell_type": "code",
   "execution_count": 2,
   "metadata": {
    "collapsed": false
   },
   "outputs": [],
   "source": [
    "\n",
    "df=pd.read_csv('https://raw.githubusercontent.com/sagarvadher/HireArtAnalysis/master/HireArt%20-%20Data%20Analyst%20Exercise%2010.12.17%20-%20Sheet1.csv')"
   ]
  },
  {
   "cell_type": "code",
   "execution_count": 3,
   "metadata": {
    "collapsed": false
   },
   "outputs": [
    {
     "data": {
      "text/html": [
       "<div>\n",
       "<table border=\"1\" class=\"dataframe\">\n",
       "  <thead>\n",
       "    <tr style=\"text-align: right;\">\n",
       "      <th></th>\n",
       "      <th>Account manager</th>\n",
       "      <th>Client Name</th>\n",
       "      <th>Date of Contact</th>\n",
       "    </tr>\n",
       "  </thead>\n",
       "  <tbody>\n",
       "    <tr>\n",
       "      <th>0</th>\n",
       "      <td>Milan Crona</td>\n",
       "      <td>Wyman, Farrell and Haag</td>\n",
       "      <td>2015-10-31</td>\n",
       "    </tr>\n",
       "    <tr>\n",
       "      <th>1</th>\n",
       "      <td>Aidan Pouros</td>\n",
       "      <td>Veum, McClure and Schuster</td>\n",
       "      <td>2013-12-15</td>\n",
       "    </tr>\n",
       "    <tr>\n",
       "      <th>2</th>\n",
       "      <td>Aidan Pouros</td>\n",
       "      <td>Veum, McClure and Schuster</td>\n",
       "      <td>2013-12-07</td>\n",
       "    </tr>\n",
       "    <tr>\n",
       "      <th>3</th>\n",
       "      <td>Milan Crona</td>\n",
       "      <td>Armstrong Group</td>\n",
       "      <td>2013-11-02</td>\n",
       "    </tr>\n",
       "    <tr>\n",
       "      <th>4</th>\n",
       "      <td>Aidan Pouros</td>\n",
       "      <td>Lueilwitz, Moore and Hahn</td>\n",
       "      <td>2013-12-25</td>\n",
       "    </tr>\n",
       "  </tbody>\n",
       "</table>\n",
       "</div>"
      ],
      "text/plain": [
       "  Account manager                 Client Name Date of Contact\n",
       "0     Milan Crona     Wyman, Farrell and Haag      2015-10-31\n",
       "1    Aidan Pouros  Veum, McClure and Schuster      2013-12-15\n",
       "2    Aidan Pouros  Veum, McClure and Schuster      2013-12-07\n",
       "3     Milan Crona             Armstrong Group      2013-11-02\n",
       "4    Aidan Pouros   Lueilwitz, Moore and Hahn      2013-12-25"
      ]
     },
     "execution_count": 3,
     "metadata": {},
     "output_type": "execute_result"
    }
   ],
   "source": [
    "df.head()"
   ]
  },
  {
   "cell_type": "code",
   "execution_count": 4,
   "metadata": {
    "collapsed": false
   },
   "outputs": [
    {
     "data": {
      "text/plain": [
       "2013-10-11    7\n",
       "2016-12-13    5\n",
       "2015-10-12    5\n",
       "2014-10-18    5\n",
       "2015-10-17    4\n",
       "2015-08-18    4\n",
       "2013-10-25    4\n",
       "2015-02-04    4\n",
       "2014-10-19    4\n",
       "2014-10-23    4\n",
       "2015-10-30    4\n",
       "2013-10-22    4\n",
       "2014-05-24    4\n",
       "2013-10-18    4\n",
       "2014-09-27    4\n",
       "2015-10-22    4\n",
       "2016-12-21    3\n",
       "2014-09-09    3\n",
       "2013-11-06    3\n",
       "2016-02-23    3\n",
       "2013-10-04    3\n",
       "2014-06-19    3\n",
       "2016-10-28    3\n",
       "2016-05-25    3\n",
       "2015-07-19    3\n",
       "2013-10-05    3\n",
       "2014-10-24    3\n",
       "2016-10-13    3\n",
       "2015-08-20    3\n",
       "2014-12-18    3\n",
       "             ..\n",
       "2016-04-25    1\n",
       "2014-12-27    1\n",
       "2017-04-18    1\n",
       "2016-05-08    1\n",
       "2016-05-26    1\n",
       "2014-02-06    1\n",
       "2015-03-11    1\n",
       "2013-11-16    1\n",
       "2016-03-20    1\n",
       "2017-08-08    1\n",
       "2017-06-25    1\n",
       "2013-10-29    1\n",
       "2014-01-29    1\n",
       "2016-01-30    1\n",
       "2014-11-17    1\n",
       "2014-12-05    1\n",
       "2016-06-03    1\n",
       "2016-04-10    1\n",
       "2017-07-28    1\n",
       "2013-12-15    1\n",
       "2014-11-22    1\n",
       "2017-01-31    1\n",
       "2015-07-24    1\n",
       "2015-09-01    1\n",
       "2015-07-14    1\n",
       "2016-08-23    1\n",
       "2016-06-02    1\n",
       "2016-11-15    1\n",
       "2015-03-17    1\n",
       "2014-02-16    1\n",
       "Name: Date of Contact, dtype: int64"
      ]
     },
     "execution_count": 4,
     "metadata": {},
     "output_type": "execute_result"
    }
   ],
   "source": [
    "df['Date of Contact'].value_counts()"
   ]
  },
  {
   "cell_type": "code",
   "execution_count": 5,
   "metadata": {
    "collapsed": false
   },
   "outputs": [],
   "source": [
    "import datetime\n",
    "df['month'] = pd.DatetimeIndex(df['Date of Contact']).month"
   ]
  },
  {
   "cell_type": "code",
   "execution_count": 6,
   "metadata": {
    "collapsed": false
   },
   "outputs": [
    {
     "data": {
      "text/plain": [
       "0       10\n",
       "1       12\n",
       "2       12\n",
       "3       11\n",
       "4       12\n",
       "5        3\n",
       "6       10\n",
       "7        5\n",
       "8        7\n",
       "9       10\n",
       "10       1\n",
       "11      11\n",
       "12      10\n",
       "13      10\n",
       "14       9\n",
       "15      10\n",
       "16      10\n",
       "17      11\n",
       "18       2\n",
       "19      12\n",
       "20      10\n",
       "21       9\n",
       "22      10\n",
       "23       5\n",
       "24      10\n",
       "25       9\n",
       "26       7\n",
       "27       4\n",
       "28      10\n",
       "29      12\n",
       "        ..\n",
       "971     11\n",
       "972     10\n",
       "973      5\n",
       "974      8\n",
       "975      8\n",
       "976     11\n",
       "977     10\n",
       "978     11\n",
       "979      3\n",
       "980      4\n",
       "981      6\n",
       "982      7\n",
       "983     11\n",
       "984      4\n",
       "985      6\n",
       "986      9\n",
       "987      9\n",
       "988      5\n",
       "989     11\n",
       "990      4\n",
       "991      6\n",
       "992      4\n",
       "993      2\n",
       "994      8\n",
       "995     12\n",
       "996      4\n",
       "997      9\n",
       "998      3\n",
       "999      9\n",
       "1000     6\n",
       "Name: month, dtype: int32"
      ]
     },
     "execution_count": 6,
     "metadata": {},
     "output_type": "execute_result"
    }
   ],
   "source": [
    "df['month']"
   ]
  },
  {
   "cell_type": "code",
   "execution_count": 7,
   "metadata": {
    "collapsed": false
   },
   "outputs": [
    {
     "data": {
      "text/plain": [
       "10    213\n",
       "9     121\n",
       "8      79\n",
       "12     77\n",
       "6      77\n",
       "5      69\n",
       "7      66\n",
       "11     65\n",
       "2      64\n",
       "1      60\n",
       "3      58\n",
       "4      52\n",
       "Name: month, dtype: int64"
      ]
     },
     "execution_count": 7,
     "metadata": {},
     "output_type": "execute_result"
    }
   ],
   "source": [
    "df['month'].value_counts()"
   ]
  },
  {
   "cell_type": "code",
   "execution_count": 8,
   "metadata": {
    "collapsed": false
   },
   "outputs": [],
   "source": [
    "### October will be the month when the team will be more likely to contact the most clients."
   ]
  }
 ],
 "metadata": {
  "kernelspec": {
   "display_name": "Python 3",
   "language": "python",
   "name": "python3"
  },
  "language_info": {
   "codemirror_mode": {
    "name": "ipython",
    "version": 3
   },
   "file_extension": ".py",
   "mimetype": "text/x-python",
   "name": "python",
   "nbconvert_exporter": "python",
   "pygments_lexer": "ipython3",
   "version": "3.6.0"
  }
 },
 "nbformat": 4,
 "nbformat_minor": 2
}
